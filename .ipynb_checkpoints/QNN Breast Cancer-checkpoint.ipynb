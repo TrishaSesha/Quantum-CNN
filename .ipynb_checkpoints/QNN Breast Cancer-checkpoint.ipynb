{
 "cells": [
  {
   "cell_type": "code",
   "execution_count": 1,
   "id": "16e16022-30fd-4d7b-aa36-bb401b65e33a",
   "metadata": {
    "tags": []
   },
   "outputs": [],
   "source": [
    "from sklearn import model_selection, datasets, svm\n",
    "import numpy as np\n",
    "import qiskit\n",
    "import copy\n",
    "import matplotlib.pyplot as plt\n",
    "import time         \n",
    "from qiskit import *\n"
   ]
  },
  {
   "cell_type": "code",
   "execution_count": 2,
   "id": "a206b294-8141-4fee-b778-1c698f972eeb",
   "metadata": {
    "tags": []
   },
   "outputs": [],
   "source": [
    "def feature_map(X):\n",
    "    '''\n",
    "    create a quantum circuit and pass data to it\n",
    "    '''\n",
    "    q = QuantumRegister(N)\n",
    "    c = ClassicalRegister(1)\n",
    "    qc = QuantumCircuit(q,c)\n",
    "    \n",
    "    for i,x in enumerate(X):\n",
    "        qc.rx(x,i)\n",
    "    return qc,c\n",
    "\n",
    "def variational_circuit(qc, theta):\n",
    "    for i in range(N-1):\n",
    "        qc.cx(i,i+1) # 2,3\n",
    "    qc.cx(N-1, 0)\n",
    "    for i in range(N):\n",
    "        qc.ry(theta[i],i)\n",
    "    return qc\n",
    "\n",
    "def quantum_nn(X,theta,simulator=True):\n",
    "    qc, c = feature_map(X)\n",
    "    qc = variational_circuit(qc, theta)\n",
    "    qc.measure(0,c)\n",
    "    \n",
    "    shots = 1E4 #10000\n",
    "    backend = Aer.get_backend('qasm_simulator')\n",
    "    \n",
    "\n",
    "    \n",
    "    \n",
    "    job = qiskit.execute(qc,backend,shots=shots)\n",
    "    result = job.result()\n",
    "    counts = result.get_counts(qc) #{'0':6520,'1':4480}\n",
    "    \n",
    "\n",
    "    return counts['1']/shots #0.448 or 44.8%\n",
    "\n",
    "def loss(prediction,target):\n",
    "    return (prediction-target)**2  \n",
    "\n",
    "def gradient(X,Y,theta):\n",
    "    delta = 0.01\n",
    "    grad = []\n",
    "    for i in range(len(theta)):\n",
    "        dtheta = copy.copy(theta)\n",
    "        dtheta[i] += delta\n",
    "        \n",
    "        pred1 = quantum_nn(X, dtheta)\n",
    "        pred2 = quantum_nn(X, theta)\n",
    "        \n",
    "        grad.append((loss(pred1,Y) - loss(pred2,Y)) / delta)\n",
    "    return np.array(grad)\n",
    "\n",
    "def accuracy(X,Y,theta):\n",
    "    counter = 0\n",
    "    for X_i,Y_i in zip(X,Y):\n",
    "        prediction = quantum_nn(X_i, theta)\n",
    "        if prediction < 0.5 and Y_i == 0:\n",
    "            counter +=1 \n",
    "        elif prediction >= 0.5 and Y_i ==1:\n",
    "            counter+=1\n",
    "    return counter/len(Y)"
   ]
  },
  {
   "cell_type": "code",
   "execution_count": 3,
   "id": "b1b46c45-00c9-4f7f-90fa-4cddbd6936ac",
   "metadata": {
    "tags": []
   },
   "outputs": [],
   "source": [
    "start_time = time.time()\n",
    "\n",
    "cancer = datasets.load_breast_cancer()\n",
    "# print(cancer)\n",
    "X = cancer.data[0:100,:10]\n",
    "Y = cancer.target[0:100]\n",
    "X_train, X_test, Y_train, Y_test = model_selection.train_test_split(X,Y,test_size=0.33,random_state=42)\n",
    "N = 10"
   ]
  },
  {
   "cell_type": "code",
   "execution_count": null,
   "id": "e2b35978-a9c6-4e1a-ac65-6f0170a30ea4",
   "metadata": {
    "tags": []
   },
   "outputs": [
    {
     "name": "stdout",
     "output_type": "stream",
     "text": [
      "EPOCH \t LOSS \t TRAINING ACCURACY\n",
      "0 \t 0.268 \t 0.507\n",
      "1 \t 0.259 \t 0.478\n"
     ]
    }
   ],
   "source": [
    "eta = 0.05 # 5%\n",
    "loss_list = []\n",
    "theta = np.ones(N)\n",
    "\n",
    "print('EPOCH \\t LOSS \\t TRAINING ACCURACY')\n",
    "\n",
    "for i in range(5):\n",
    "    \n",
    "    loss_tmp = []\n",
    "         \n",
    "    for X_i,Y_i in zip(X_train,Y_train):\n",
    "        prediction = quantum_nn(X_i,theta)\n",
    "        loss_tmp.append(loss(prediction, Y_i))\n",
    "        theta = theta - eta * gradient(X_i,Y_i,theta)\n",
    "        \n",
    "    loss_list.append(np.mean(loss_tmp))\n",
    "    acc = accuracy(X_train,Y_train,theta)\n",
    "    \n",
    "    print(f'{i} \\t {loss_list[-1]:.3f} \\t {acc:.3f}')"
   ]
  },
  {
   "cell_type": "code",
   "execution_count": null,
   "id": "88f38dbe-1a57-4016-b6b8-9f08e4c227db",
   "metadata": {
    "tags": []
   },
   "outputs": [],
   "source": [
    "plt.plot(loss_list)\n",
    "plt.xlabel('Epoch')\n",
    "plt.ylabel('Loss')\n",
    "plt.show()\n",
    "\n",
    "end_time = time.time()\n"
   ]
  },
  {
   "cell_type": "code",
   "execution_count": null,
   "id": "4975e930-917d-46aa-9ab0-467d4b4484e6",
   "metadata": {
    "tags": []
   },
   "outputs": [],
   "source": [
    "print(f\"START:{start_time} \\n END:{end_time} \\n Total Time:{end_time-start_time}\")"
   ]
  },
  {
   "cell_type": "code",
   "execution_count": null,
   "id": "334138b6-ee17-4497-8d81-5fc6454d6a52",
   "metadata": {},
   "outputs": [],
   "source": []
  }
 ],
 "metadata": {
  "kernelspec": {
   "display_name": "Python 3 (ipykernel)",
   "language": "python",
   "name": "python3"
  },
  "language_info": {
   "codemirror_mode": {
    "name": "ipython",
    "version": 3
   },
   "file_extension": ".py",
   "mimetype": "text/x-python",
   "name": "python",
   "nbconvert_exporter": "python",
   "pygments_lexer": "ipython3",
   "version": "3.9.6"
  },
  "widgets": {
   "application/vnd.jupyter.widget-state+json": {
    "state": {
     "07c935dcac9244f590106e03e279994b": {
      "model_module": "@jupyter-widgets/base",
      "model_module_version": "2.0.0",
      "model_name": "LayoutModel",
      "state": {
       "width": "145px"
      }
     },
     "11db119c60f84a438551e91ff6748d05": {
      "model_module": "@jupyter-widgets/controls",
      "model_module_version": "2.0.0",
      "model_name": "HTMLStyleModel",
      "state": {
       "description_width": "",
       "font_size": null,
       "text_color": null
      }
     },
     "1284625dc5584979a0ff3df85fefd4e8": {
      "model_module": "@jupyter-widgets/controls",
      "model_module_version": "2.0.0",
      "model_name": "GridBoxModel",
      "state": {
       "children": [
        "IPY_MODEL_2b1375cb0d8d465783ce4f3fcc07462e"
       ],
       "layout": "IPY_MODEL_599d797486dc4f71b638a7d812cce87f"
      }
     },
     "16819f59523b435294276cb7d7975837": {
      "model_module": "@jupyter-widgets/base",
      "model_module_version": "2.0.0",
      "model_name": "LayoutModel",
      "state": {
       "margin": "0px 0px 0px 37px",
       "width": "600px"
      }
     },
     "257b409662e84c039564b8d79740b13e": {
      "model_module": "@jupyter-widgets/controls",
      "model_module_version": "2.0.0",
      "model_name": "HTMLModel",
      "state": {
       "layout": "IPY_MODEL_91e5bcf1ada4423d99016225ab183ff6",
       "style": "IPY_MODEL_687cab449ab74264a7bf983095e75b56",
       "value": "<p style='font-family: IBM Plex Sans, Arial, Helvetica, sans-serif; font-size: 20px; font-weight: medium;'>Circuit Properties</p>"
      }
     },
     "279fe1de235745a3a24789066614ad90": {
      "model_module": "@jupyter-widgets/base",
      "model_module_version": "2.0.0",
      "model_name": "LayoutModel",
      "state": {
       "width": "70px"
      }
     },
     "2b1375cb0d8d465783ce4f3fcc07462e": {
      "model_module": "@jupyter-widgets/controls",
      "model_module_version": "2.0.0",
      "model_name": "ButtonModel",
      "state": {
       "button_style": "primary",
       "description": "Clear",
       "layout": "IPY_MODEL_b72a6c5f911340778c2b7765334dcaaa",
       "style": "IPY_MODEL_4216548cd6d842d9951b72ad9ac1270b",
       "tooltip": null
      }
     },
     "37e255ba3a4148069f2dc7c978d11322": {
      "model_module": "@jupyter-widgets/base",
      "model_module_version": "2.0.0",
      "model_name": "LayoutModel",
      "state": {}
     },
     "3b6dce2db717498a8cb044e2ab7e66cf": {
      "model_module": "@jupyter-widgets/base",
      "model_module_version": "2.0.0",
      "model_name": "LayoutModel",
      "state": {
       "width": "95px"
      }
     },
     "4216548cd6d842d9951b72ad9ac1270b": {
      "model_module": "@jupyter-widgets/controls",
      "model_module_version": "2.0.0",
      "model_name": "ButtonStyleModel",
      "state": {
       "font_family": null,
       "font_size": null,
       "font_style": null,
       "font_variant": null,
       "font_weight": null,
       "text_color": null,
       "text_decoration": null
      }
     },
     "4a386c792ffc4e519c3a5405590504a9": {
      "model_module": "@jupyter-widgets/controls",
      "model_module_version": "2.0.0",
      "model_name": "HTMLModel",
      "state": {
       "layout": "IPY_MODEL_37e255ba3a4148069f2dc7c978d11322",
       "style": "IPY_MODEL_11db119c60f84a438551e91ff6748d05",
       "value": "<h5>Message</h5>"
      }
     },
     "599d797486dc4f71b638a7d812cce87f": {
      "model_module": "@jupyter-widgets/base",
      "model_module_version": "2.0.0",
      "model_name": "LayoutModel",
      "state": {
       "grid_template_areas": "\n                                       \". . . . right \"\n                                        ",
       "grid_template_columns": "20% 20% 20% 20% 20%",
       "width": "100%"
      }
     },
     "687cab449ab74264a7bf983095e75b56": {
      "model_module": "@jupyter-widgets/controls",
      "model_module_version": "2.0.0",
      "model_name": "HTMLStyleModel",
      "state": {
       "description_width": "",
       "font_size": null,
       "text_color": null
      }
     },
     "7916f843cf844d5a95ae9ead4a0bf62e": {
      "model_module": "@jupyter-widgets/controls",
      "model_module_version": "2.0.0",
      "model_name": "HTMLModel",
      "state": {
       "layout": "IPY_MODEL_279fe1de235745a3a24789066614ad90",
       "style": "IPY_MODEL_fe6d2cae675d46268fa118e86b78139a",
       "value": "<h5>Queue</h5>"
      }
     },
     "91e5bcf1ada4423d99016225ab183ff6": {
      "model_module": "@jupyter-widgets/base",
      "model_module_version": "2.0.0",
      "model_name": "LayoutModel",
      "state": {
       "margin": "0px 0px 10px 0px"
      }
     },
     "940ebe7f12b34f48b8977e372bd949e2": {
      "model_module": "@jupyter-widgets/controls",
      "model_module_version": "2.0.0",
      "model_name": "HBoxModel",
      "state": {
       "children": [
        "IPY_MODEL_ed024414d80848e78dfff1ea5b898da8",
        "IPY_MODEL_ea81ca7de95844e9b0d2b31652276298",
        "IPY_MODEL_d35e3e307d6244158e937d4c9d5a5488",
        "IPY_MODEL_7916f843cf844d5a95ae9ead4a0bf62e",
        "IPY_MODEL_4a386c792ffc4e519c3a5405590504a9"
       ],
       "layout": "IPY_MODEL_16819f59523b435294276cb7d7975837"
      }
     },
     "b72a6c5f911340778c2b7765334dcaaa": {
      "model_module": "@jupyter-widgets/base",
      "model_module_version": "2.0.0",
      "model_name": "LayoutModel",
      "state": {
       "grid_area": "right",
       "padding": "0px 0px 0px 0px",
       "width": "70px"
      }
     },
     "d35e3e307d6244158e937d4c9d5a5488": {
      "model_module": "@jupyter-widgets/controls",
      "model_module_version": "2.0.0",
      "model_name": "HTMLModel",
      "state": {
       "layout": "IPY_MODEL_3b6dce2db717498a8cb044e2ab7e66cf",
       "style": "IPY_MODEL_dcce118d2c3d4b378f4d96acc13fd32e",
       "value": "<h5>Status</h5>"
      }
     },
     "dcce118d2c3d4b378f4d96acc13fd32e": {
      "model_module": "@jupyter-widgets/controls",
      "model_module_version": "2.0.0",
      "model_name": "HTMLStyleModel",
      "state": {
       "description_width": "",
       "font_size": null,
       "text_color": null
      }
     },
     "e7df4ae351b7418494174f0b04615cb3": {
      "model_module": "@jupyter-widgets/controls",
      "model_module_version": "2.0.0",
      "model_name": "HTMLStyleModel",
      "state": {
       "description_width": "",
       "font_size": null,
       "text_color": null
      }
     },
     "ea81ca7de95844e9b0d2b31652276298": {
      "model_module": "@jupyter-widgets/controls",
      "model_module_version": "2.0.0",
      "model_name": "HTMLModel",
      "state": {
       "layout": "IPY_MODEL_07c935dcac9244f590106e03e279994b",
       "style": "IPY_MODEL_e7df4ae351b7418494174f0b04615cb3",
       "value": "<h5>Backend</h5>"
      }
     },
     "ed024414d80848e78dfff1ea5b898da8": {
      "model_module": "@jupyter-widgets/controls",
      "model_module_version": "2.0.0",
      "model_name": "HTMLModel",
      "state": {
       "layout": "IPY_MODEL_f1c6ca567a2b4d61843a1fa1ef67cc6c",
       "style": "IPY_MODEL_ed8e142cd29046e887e003c6e40eb303",
       "value": "<h5>Job ID</h5>"
      }
     },
     "ed8e142cd29046e887e003c6e40eb303": {
      "model_module": "@jupyter-widgets/controls",
      "model_module_version": "2.0.0",
      "model_name": "HTMLStyleModel",
      "state": {
       "description_width": "",
       "font_size": null,
       "text_color": null
      }
     },
     "f1c6ca567a2b4d61843a1fa1ef67cc6c": {
      "model_module": "@jupyter-widgets/base",
      "model_module_version": "2.0.0",
      "model_name": "LayoutModel",
      "state": {
       "width": "190px"
      }
     },
     "fe6d2cae675d46268fa118e86b78139a": {
      "model_module": "@jupyter-widgets/controls",
      "model_module_version": "2.0.0",
      "model_name": "HTMLStyleModel",
      "state": {
       "description_width": "",
       "font_size": null,
       "text_color": null
      }
     }
    },
    "version_major": 2,
    "version_minor": 0
   }
  }
 },
 "nbformat": 4,
 "nbformat_minor": 5
}
